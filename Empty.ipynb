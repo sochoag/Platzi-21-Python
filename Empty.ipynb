{
 "cells": [
  {
   "cell_type": "markdown",
   "metadata": {},
   "source": [
    "# Ejercicio 1\n",
    "\n",
    "En este desafío encontrarás una función llamada solution que recibe un parámetro llamado valor. Debes encontrar el tipo de dato del parámetro valor y retornarlo desde la función solution.\n",
    "\n",
    "Recuerda que el parámetro valor será distinto por cada distinta forma en que ejecutemos la función solution."
   ]
  },
  {
   "cell_type": "code",
   "execution_count": 23,
   "metadata": {},
   "outputs": [
    {
     "name": "stdout",
     "output_type": "stream",
     "text": [
      "<class 'int'>\n",
      "<class 'str'>\n",
      "<class 'bool'>\n"
     ]
    }
   ],
   "source": [
    "def solution(value):\n",
    "   # Tu código aquí 👈\n",
    "  pass\n",
    "\n",
    "\n",
    "solution(1)\n",
    "solution(\"Dieguillo\")\n",
    "solution(True)"
   ]
  },
  {
   "cell_type": "markdown",
   "metadata": {},
   "source": [
    "# Ejercicio 2\n",
    "\n",
    "En este desafío tendrás que calcular la propina que deben dejar los clientes de un restaurante en función de su consumo.\n",
    "\n",
    "La función calculate_tip recibirá dos parámetros, bill_amount que representa el costo total de lo que se haya consumido y tip_percentage que representa el porcentaje de propina a dejar. Ambos valores serán de tipo float y siempre serán positivos, incluyendo el 0. La función deberá devolver el valor de la propina como un número.\n",
    "\n",
    "Recuerda que para redondear a dos decimales tendrás que hacer uso de round(numero, cantidad de decimales)"
   ]
  },
  {
   "cell_type": "code",
   "execution_count": 28,
   "metadata": {},
   "outputs": [
    {
     "name": "stdout",
     "output_type": "stream",
     "text": [
      "10.0\n",
      "381.08\n"
     ]
    }
   ],
   "source": [
    "def calculate_tip(bill_amount, tipPercentage):\n",
    "   # Tu código aquí 👈\n",
    "  pass\n",
    "\n",
    "calculate_tip(100, 10)\n",
    "calculate_tip(1524.33, 25)"
   ]
  },
  {
   "cell_type": "markdown",
   "metadata": {},
   "source": [
    "# Ejercicio 3\n",
    "En este desafío de Python, debes crear la lógica de la función is_leap_year, que determina si un año es bisiesto o no. Un año es bisiesto si cumple con las siguientes condiciones:\n",
    "\n",
    "Es divisible por 4, pero no por 100.\n",
    "Si es divisible por 100 debe serlo por 400 también.\n",
    "La función is_leap_year recibe un único parámetro: el año a evaluar. Debe devolver True si el año es bisiesto o False en caso contrario.\n",
    "\n",
    "Toma en cuenta que la función debe ser capaz de manejar valores no enteros o negativos."
   ]
  },
  {
   "cell_type": "code",
   "execution_count": 29,
   "metadata": {},
   "outputs": [
    {
     "name": "stdout",
     "output_type": "stream",
     "text": [
      "True\n",
      "False\n",
      "False\n"
     ]
    }
   ],
   "source": [
    "def is_leap_year(year):\n",
    "   # Tu código aquí 👈\n",
    "  pass\n",
    "  \n",
    "is_leap_year(2000)\n",
    "is_leap_year(-2024)\n",
    "is_leap_year(1984.25)"
   ]
  },
  {
   "cell_type": "markdown",
   "metadata": {},
   "source": [
    "Ejercicio 4\n",
    "\n",
    "En este desafío, debes dibujar un triángulo equilatero usando bucles.\n",
    "\n",
    "Recibirás dos parámetros: size y character, que definen el número de filas que tendrá y el carácter con el que se debe construir el triángulo, respectivamente. Además, el triángulo debe estar alineado al centro, lo que significa que la misma cantidad de caracteres debe haber en ambos lados.\n",
    "\n",
    "Recuerda que para hacer el salto de línea debes usar \"\\n\", no olvides removerla de la última parte, debes retornar todo esto en una variable.\n",
    "\n",
    "Tendrás inputs y outputs como los siguientes 👇\n",
    "\n",
    "Ejemplo 1:\n",
    "\n",
    "\n",
    "      Input: printTriangle(3, \"*\")\n",
    "      Output:\n",
    "        *\n",
    "       ***\n",
    "      *****\n",
    "\n",
    "Ejemplo 2:\n",
    "\n",
    "      Input: printTriangle(6, \"$\")\n",
    "      Output:\n",
    "           $\n",
    "          $$$\n",
    "         $$$$$\n",
    "        $$$$$$$\n",
    "       $$$$$$$$$\n",
    "      $$$$$$$$$$$"
   ]
  },
  {
   "cell_type": "code",
   "execution_count": null,
   "metadata": {},
   "outputs": [],
   "source": [
    "def print_triangle(size, character):\n",
    "   # Tu código aquí 👈\n",
    "  pass\n",
    "\n",
    "print_triangle(3,\"*\")\n",
    "print_triangle(6,\"$\")"
   ]
  },
  {
   "cell_type": "markdown",
   "metadata": {},
   "source": [
    "# Ejercicio 5\n",
    "\n",
    "En este desafío, debes encontrar al gatito más famoso con base en su número de seguidores.\n",
    "\n",
    "Recibirás una lista de diccionarios que incluirán las siguientes propiedades:\n",
    "\n",
    "\"name\": nombre del gatito.\n",
    "\"followers\": una lista de números, donde cada uno representa los seguidores de cada red social.\n",
    "Tu tarea es devolver una lista con los nombres de los gatos que tienen solo el mayor número de seguidores. Si hay dos o más gatos con el mismo número máximo de seguidores, deberás incluirlos en la lista resultante, manteniendo el orden en el que aparecen en la lista de entrada.\n",
    "\n",
    "Tendrás inputs y outputs como los siguientes 👇\n",
    "\n",
    "Ejemplo 1:\n",
    "\n",
    "\n",
    "      Input: find_famous_cat([\n",
    "        {\n",
    "          \"name\": \"Luna\",\n",
    "          \"followers\": [500, 200, 300]\n",
    "        },\n",
    "        {\n",
    "          \"name\": \"Michi\",\n",
    "          \"followers\": [100, 300]\n",
    "        },\n",
    "      ])\n",
    "\n",
    "      Output: [\"Luna\"]\n",
    "\n",
    "Ejemplo 2:\n",
    "\n",
    "\n",
    "      Input: find_famous_cat([\n",
    "        {\n",
    "          \"name\": \"Mimi\",\n",
    "          \"followers\": [320, 120, 70]\n",
    "        },\n",
    "        {\n",
    "          \"name\": \"Milo\",\n",
    "          \"followers\": [400, 300, 100, 200]\n",
    "        },\n",
    "        {\n",
    "          \"name\": \"Gizmo\",\n",
    "          \"followers\": [250, 750]\n",
    "        }\n",
    "      ])\n",
    "\n",
    "      Output: [\"Milo\", \"Gizmo\"]"
   ]
  },
  {
   "cell_type": "code",
   "execution_count": 40,
   "metadata": {},
   "outputs": [
    {
     "name": "stdout",
     "output_type": "stream",
     "text": [
      "['Luna']\n",
      "['Milo', 'Gizmo']\n"
     ]
    }
   ],
   "source": [
    "def find_famous_cat(cats):\n",
    "   # Tu código aquí 👈\n",
    "  pass\n",
    "\n",
    "find_famous_cat([\n",
    "        {\n",
    "          \"name\": \"Luna\",\n",
    "          \"followers\": [500, 200, 300]\n",
    "        },\n",
    "        {\n",
    "          \"name\": \"Michi\",\n",
    "          \"followers\": [100, 300]\n",
    "        },\n",
    "      ])\n",
    "\n",
    "find_famous_cat([\n",
    "        {\n",
    "          \"name\": \"Mimi\",\n",
    "          \"followers\": [320, 120, 70]\n",
    "        },\n",
    "        {\n",
    "          \"name\": \"Milo\",\n",
    "          \"followers\": [400, 300, 100, 200]\n",
    "        },\n",
    "        {\n",
    "          \"name\": \"Gizmo\",\n",
    "          \"followers\": [250, 750]\n",
    "        }\n",
    "      ])"
   ]
  },
  {
   "cell_type": "markdown",
   "metadata": {},
   "source": [
    "# Ejercicio 6\n",
    "En este desafío, deberás calcular el promedio general de una clase, así como el promedio individual de cada estudiante.\n",
    "\n",
    "Para ello, se te proporcionará una lista de diccionarios, cada uno de los cuales representará a un estudiante y tendrá las siguientes propiedades:\n",
    "\n",
    "\"name\": El nombre del estudiante\n",
    "\"grades\": Las notas de cada materia del estudiante\n",
    "A partir de esta información, debes retornar un nuevo diccionario que tenga la propiedad \"class_average\" con el promedio de la clase y una lista de \"students\" con los estudiantes y sus promedios individuales.\n",
    "\n",
    "Es importante mencionar que los promedios deben ser calculados con precisión y se deben redondear a dos decimales para que los test pasen sin problema alguno. Puedes usar el método round() el cual se usa de la siguiente manera 👇\n",
    "\n",
    "number = 100.32433\n",
    "number = round(number, 2)\n",
    "\n",
    "      # 100.32\n",
    "\n",
    "Ejemplo:\n",
    "\n",
    "\n",
    "      Input: get_student_average([\n",
    "        {\n",
    "          \"name\": \"Pedro\",\n",
    "          \"grades\": [90, 87, 88, 90],\n",
    "        },\n",
    "        {\n",
    "          \"name\": \"Jose\",\n",
    "          \"grades\": [99, 71, 88, 96],\n",
    "        },\n",
    "        {\n",
    "          \"name\": \"Maria\",\n",
    "          \"grades\": [92, 81, 80, 96],\n",
    "        },\n",
    "      ])\n",
    "\n",
    "      Output: {\n",
    "        \"class_average\": 88.17,\n",
    "        \"students\": [\n",
    "          {\n",
    "            \"name\": \"Pedro\",\n",
    "            \"average\": 88.75\n",
    "          },\n",
    "          {\n",
    "            \"name\": \"Jose\",\n",
    "            \"average\": 88.5\n",
    "          },\n",
    "          {\n",
    "            \"name\": \"Maria\",\n",
    "            \"average\": 87.25\n",
    "          }\n",
    "        ]\n",
    "      }"
   ]
  },
  {
   "cell_type": "code",
   "execution_count": 60,
   "metadata": {},
   "outputs": [
    {
     "name": "stdout",
     "output_type": "stream",
     "text": [
      "{'class_average': 88.17, 'students': [{'name': 'Pedro', 'average': 88.75}, {'name': 'Jose', 'average': 88.5}, {'name': 'Maria', 'average': 87.25}]}\n"
     ]
    }
   ],
   "source": [
    "def get_student_average(students):\n",
    "   # Tu código aquí 👈\n",
    "  pass\n",
    "\n",
    "get_student_average([\n",
    "        {\n",
    "          \"name\": \"Pedro\",\n",
    "          \"grades\": [90, 87, 88, 90],\n",
    "        },\n",
    "        {\n",
    "          \"name\": \"Jose\",\n",
    "          \"grades\": [99, 71, 88, 96],\n",
    "        },\n",
    "        {\n",
    "          \"name\": \"Maria\",\n",
    "          \"grades\": [92, 81, 80, 96],\n",
    "        },\n",
    "      ])"
   ]
  },
  {
   "cell_type": "markdown",
   "metadata": {},
   "source": [
    "# Ejercicio 7\n",
    "En este desafío, te encuentras trabajando para una empresa de transporte de carga que necesita llevar un registro de los paquetes que se envían en cada viaje. Para ello, se te proporcionará una lista de tuplas, cada una de las cuales representará un paquete y tendrá las siguientes propiedades:\n",
    "\n",
    "(id, weight, destination)\n",
    "A partir de esta información, debes crear una función que calcule el peso total de los paquetes, así como la cantidad de paquetes que se enviarán a cada destino. Para ello, debes retornar un nuevo diccionario que tenga las siguientes propiedades:\n",
    "\n",
    "\"total_weight\": El peso total de los paquetes.\n",
    "\"destinations\": Un diccionario con los destinos como claves y la cantidad de paquetes como valores.\n",
    "Es importante mencionar que la función debe redondear el peso total a dos decimales y que cada destino debe aparecer sólo una vez en el diccionario.\n",
    "\n",
    "Ejemplo:\n",
    "\n",
    "\n",
    "      Input:\n",
    "\n",
    "      [\n",
    "        (1, 20, \"Mexico\"),\n",
    "        (2, 15.5, \"Colombia\"),\n",
    "        (3, 30, \"Mexico\"),\n",
    "        (4, 12, \"Argentina\"),\n",
    "        (5, 8.2, \"Colombia\"),\n",
    "        (6, 25, \"Mexico\"),\n",
    "        (7, 18.7, \"Argentina\"),\n",
    "        (8, 5, \"Colombia\"),\n",
    "        (9, 22.3, \"Argentina\"),\n",
    "        (10, 14.8, \"Colombia\")\n",
    "      ]\n",
    "\n",
    "      Output:\n",
    "\n",
    "      {\n",
    "        \"total_weight\": 171.50,\n",
    "        \"destinations\": {\n",
    "          \"Mexico\": 3,\n",
    "          \"Colombia\": 4,\n",
    "          \"Argentina\": 3\n",
    "        }\n",
    "      }"
   ]
  },
  {
   "cell_type": "code",
   "execution_count": 78,
   "metadata": {},
   "outputs": [
    {
     "name": "stdout",
     "output_type": "stream",
     "text": [
      "{'total_weight': 171.5, 'destinations': {'Mexico': 3, 'Argentina': 3, 'Colombia': 4}}\n"
     ]
    }
   ],
   "source": [
    "def get_packages_info(packages):\n",
    "    # Tu código aquí 👈\n",
    "  pass\n",
    "\n",
    "get_packages_info([\n",
    "         (1, 20, \"Mexico\"),\n",
    "         (2, 15.5, \"Colombia\"),\n",
    "         (3, 30, \"Mexico\"),\n",
    "         (4, 12, \"Argentina\"),\n",
    "         (5, 8.2, \"Colombia\"),\n",
    "         (6, 25, \"Mexico\"),\n",
    "         (7, 18.7, \"Argentina\"),\n",
    "         (8, 5, \"Colombia\"),\n",
    "         (9, 22.3, \"Argentina\"),\n",
    "         (10, 14.8, \"Colombia\")\n",
    "      ])"
   ]
  },
  {
   "cell_type": "markdown",
   "metadata": {},
   "source": [
    "# Ejercicio 8\n",
    "\n",
    "En este desafío deberás implementar la lógica de una función que cuente la cantidad de ocurrencias de cada letra en una cadena de texto y lo almacene en un diccionario.\n",
    "\n",
    "Es importante mencionar que la función debe ser sensible a mayúsculas y minúsculas, es decir, las letras mayúsculas y minúsculas deben considerarse diferentes.\n",
    "\n",
    "Ejemplo 1:\n",
    "\n",
    "\n",
    "Input: \"Hola mundo\"\n",
    "\n",
    "```\n",
    "Output: {\n",
    "  'H': 1, \n",
    "  'o': 2, \n",
    "  'l': 1, \n",
    "  'a': 1, \n",
    "  ' ': 1, \n",
    "  'M': 1, \n",
    "  'u': 1, \n",
    "  'n': 1, \n",
    "  'd': 1\n",
    "}\n",
    "```"
   ]
  },
  {
   "cell_type": "code",
   "execution_count": 81,
   "metadata": {},
   "outputs": [
    {
     "name": "stdout",
     "output_type": "stream",
     "text": [
      "{'H': 1, 'o': 2, 'l': 1, 'a': 1, ' ': 1, 'm': 1, 'u': 1, 'n': 1, 'd': 1}\n"
     ]
    }
   ],
   "source": [
    "def count_letters(phrase):\n",
    "   # Tu código aquí 👈\n",
    "  pass\n",
    "  \n",
    "count_letters(\"Hola mundo\")"
   ]
  },
  {
   "cell_type": "markdown",
   "metadata": {},
   "source": [
    "# Ejercicio 9\n",
    "\n",
    "En este desafío, debes crear una función que encuentre el palíndromo más largo en una lista de palabras.\n",
    "\n",
    "Recibirás un único parámetro: una lista de palabras. Si no hay ningún palíndromo en la lista, la función debe devolver None. Si hay más de un palíndromo con la misma longitud máxima, debes devolver el primer palíndromo encontrado en la lista.\n",
    "\n",
    "Un palíndromo es una palabra que se puede leer de la misma manera tanto hacia adelante como hacia atrás.\n",
    "\n",
    "Ejemplo 1:\n",
    "\n",
    "\n",
    "      Input: find_largest_palindrome([\"racecar\", \"level\", \"world\", \"hello\"])\n",
    "\n",
    "      Output: \"racecar\"\n",
    "\n",
    "Ejemplo 2:\n",
    "\n",
    "\n",
    "      Input: find_largest_palindrome([\"Platzi\", \"Python\", \"django\", \"flask\"])\n",
    "\n",
    "      Output: None"
   ]
  },
  {
   "cell_type": "code",
   "execution_count": 108,
   "metadata": {},
   "outputs": [
    {
     "name": "stdout",
     "output_type": "stream",
     "text": [
      "racecar\n",
      "None\n"
     ]
    }
   ],
   "source": [
    "def find_largest_palindrome(words):\n",
    "   # Tu código aquí 👈\n",
    "  pass\n",
    "\n",
    "find_largest_palindrome([\"racecar\", \"level\", \"world\", \"hello\"])\n",
    "find_largest_palindrome([\"Platzi\", \"Python\", \"Django\", \"Flask\"])"
   ]
  },
  {
   "cell_type": "markdown",
   "metadata": {},
   "source": [
    "# Ejercicio 10\n",
    "\n",
    "En este desafío, debes implementar la lógica de la función find_set_intersection que encuentre la intersección de conjuntos en una lista de conjuntos.\n",
    "\n",
    "Recibirás un único parámetro: una lista de conjuntos. La función debe encontrar la intersección de todos los conjuntos de la lista y devolver el resultado como un nuevo conjunto. Si la lista está vacía o no hay intersección entre los conjuntos, la función debe devolver un conjunto vacío.\n",
    "\n",
    "Ejemplo 1:\n",
    "\n",
    "\n",
    "      Input:\n",
    "\n",
    "      sets = [\n",
    "        {1, 2, 3, 4},\n",
    "        {2, 3, 4, 5},\n",
    "        {3, 4, 5, 6}\n",
    "      ]\n",
    "\n",
    "      find_set_intersection(sets)\n",
    "\n",
    "      Output: {3, 4}\n",
    "\n",
    "Ejemplo 2:\n",
    "\n",
    "\n",
    "      Input:\n",
    "\n",
    "      sets = [\n",
    "        {1, 2, 3, 4},\n",
    "        {2, 4, 6, 8},\n",
    "        {3, 6, 9, 12}\n",
    "      ]\n",
    "\n",
    "      find_set_intersection(sets)\n",
    "\n",
    "      Output: set()"
   ]
  },
  {
   "cell_type": "code",
   "execution_count": 123,
   "metadata": {},
   "outputs": [
    {
     "name": "stdout",
     "output_type": "stream",
     "text": [
      "{3, 4}\n",
      "set()\n"
     ]
    }
   ],
   "source": [
    "def find_set_intersection(sets):\n",
    "   # Tu código aquí 👈\n",
    "  pass\n",
    "\n",
    "sets = [\n",
    "        {1, 2, 3, 4},\n",
    "        {2, 3, 4, 5},\n",
    "        {3, 4, 5, 6}\n",
    "      ]\n",
    "\n",
    "find_set_intersection(sets)\n",
    "\n",
    "\n",
    "sets = [\n",
    "        {1, 2, 3, 4},\n",
    "        {2, 4, 6, 8},\n",
    "        {3, 6, 9, 12}\n",
    "      ]\n",
    "\n",
    "find_set_intersection(sets)"
   ]
  }
 ],
 "metadata": {
  "kernelspec": {
   "display_name": "Python 3",
   "language": "python",
   "name": "python3"
  },
  "language_info": {
   "codemirror_mode": {
    "name": "ipython",
    "version": 3
   },
   "file_extension": ".py",
   "mimetype": "text/x-python",
   "name": "python",
   "nbconvert_exporter": "python",
   "pygments_lexer": "ipython3",
   "version": "3.11.3"
  },
  "orig_nbformat": 4
 },
 "nbformat": 4,
 "nbformat_minor": 2
}
